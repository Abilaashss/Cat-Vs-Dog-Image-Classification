{
 "cells": [
  {
   "cell_type": "markdown",
   "id": "e27b4906",
   "metadata": {},
   "source": [
    "IMPORTING THE REQUIRED MODULES AND LIBRARIES"
   ]
  },
  {
   "cell_type": "code",
   "execution_count": 1,
   "id": "aad4cf3d",
   "metadata": {},
   "outputs": [],
   "source": [
    "import numpy as np\n",
    "import pandas as pd\n",
    "import matplotlib.pyplot as plt\n",
    "import os\n",
    "import warnings\n",
    "import tqdm\n",
    "from keras.preprocessing.image import load_img\n",
    "warnings.filterwarnings('ignore')\n",
    "import random\n",
    "import tensorflow"
   ]
  },
  {
   "cell_type": "markdown",
   "id": "32d5e55c",
   "metadata": {},
   "source": [
    "Create DataFrame for Input and Output"
   ]
  },
  {
   "cell_type": "code",
   "execution_count": 2,
   "id": "5a399c6d",
   "metadata": {},
   "outputs": [],
   "source": [
    "directory = \"/Users/admin/Downloads/kagglecatsanddogs_5340/PetImages\"\n",
    "input_path = []  \n",
    "label = []       \n",
    "\n",
    "for class_name in os.listdir(directory):\n",
    "    class_path = os.path.join(directory, class_name)\n",
    "    \n",
    "    if os.path.isdir(class_path):\n",
    "        for path in os.listdir(class_path):\n",
    "            image_path = os.path.join(class_path, path)\n",
    "            input_path.append(image_path)\n",
    "            if class_name == 'Cat':\n",
    "                label.append(0)\n",
    "            elif class_name == 'Dog':\n",
    "                label.append(1)"
   ]
  },
  {
   "cell_type": "markdown",
   "id": "361a9ec1",
   "metadata": {},
   "source": [
    "Delete db files"
   ]
  },
  {
   "cell_type": "code",
   "execution_count": 39,
   "id": "b15efbab",
   "metadata": {},
   "outputs": [
    {
     "name": "stdout",
     "output_type": "stream",
     "text": [
      "/Users/admin/Downloads/kagglecatsanddogs_5340/PetImages/Dog/Thumbs.db\n",
      "/Users/admin/Downloads/kagglecatsanddogs_5340/PetImages/Cat/Thumbs.db\n"
     ]
    }
   ],
   "source": [
    "for i in df['images']:\n",
    "    if '.jpg' not in i:\n",
    "        print(i)\n"
   ]
  },
  {
   "cell_type": "code",
   "execution_count": 44,
   "id": "31a3d356",
   "metadata": {},
   "outputs": [
    {
     "data": {
      "text/plain": [
       "['/Users/admin/Downloads/kagglecatsanddogs_5340/PetImages/Dog/11702.jpg',\n",
       " '/Users/admin/Downloads/kagglecatsanddogs_5340/PetImages/Cat/666.jpg']"
      ]
     },
     "execution_count": 44,
     "metadata": {},
     "output_type": "execute_result"
    }
   ],
   "source": [
    "import PIL\n",
    "l=[]\n",
    "for image in df['images']:\n",
    "    try:\n",
    "        img = PIL.Image.open(image)\n",
    "    except:\n",
    "        l.append(image)\n",
    "l\n",
    "    "
   ]
  },
  {
   "cell_type": "code",
   "execution_count": 47,
   "id": "6ef3ffb9",
   "metadata": {},
   "outputs": [
    {
     "data": {
      "text/plain": [
       "24998"
      ]
     },
     "execution_count": 47,
     "metadata": {},
     "output_type": "execute_result"
    }
   ],
   "source": [
    "df = df[df['images'] !='/Users/admin/Downloads/kagglecatsanddogs_5340/PetImages/Dog/Thumbs.db' ]\n",
    "df = df[df['images'] !='/Users/admin/Downloads/kagglecatsanddogs_5340/PetImages/Cat/Thumbs.db']\n",
    "df = df[df['images'] !='/Users/admin/Downloads/kagglecatsanddogs_5340/PetImages/Dog/11702.jpg']\n",
    "df = df[df['images'] !='/Users/admin/Downloads/kagglecatsanddogs_5340/PetImages/Cat/666.jpg']\n",
    "len(df)"
   ]
  },
  {
   "cell_type": "code",
   "execution_count": 48,
   "id": "9ef2bc43",
   "metadata": {},
   "outputs": [],
   "source": [
    "df=pd.DataFrame()\n",
    "df['images'] = input_path\n",
    "df['label'] = label\n",
    "df = df.sample(frac=1).reset_index(drop = True)"
   ]
  },
  {
   "cell_type": "code",
   "execution_count": 49,
   "id": "e4e89669",
   "metadata": {},
   "outputs": [],
   "source": [
    "df['label']=df['label'].astype('str')"
   ]
  },
  {
   "cell_type": "code",
   "execution_count": 50,
   "id": "d190b0c2",
   "metadata": {},
   "outputs": [
    {
     "data": {
      "text/html": [
       "<div>\n",
       "<style scoped>\n",
       "    .dataframe tbody tr th:only-of-type {\n",
       "        vertical-align: middle;\n",
       "    }\n",
       "\n",
       "    .dataframe tbody tr th {\n",
       "        vertical-align: top;\n",
       "    }\n",
       "\n",
       "    .dataframe thead th {\n",
       "        text-align: right;\n",
       "    }\n",
       "</style>\n",
       "<table border=\"1\" class=\"dataframe\">\n",
       "  <thead>\n",
       "    <tr style=\"text-align: right;\">\n",
       "      <th></th>\n",
       "      <th>images</th>\n",
       "      <th>label</th>\n",
       "    </tr>\n",
       "  </thead>\n",
       "  <tbody>\n",
       "    <tr>\n",
       "      <th>0</th>\n",
       "      <td>/Users/admin/Downloads/kagglecatsanddogs_5340/...</td>\n",
       "      <td>0</td>\n",
       "    </tr>\n",
       "    <tr>\n",
       "      <th>1</th>\n",
       "      <td>/Users/admin/Downloads/kagglecatsanddogs_5340/...</td>\n",
       "      <td>0</td>\n",
       "    </tr>\n",
       "    <tr>\n",
       "      <th>2</th>\n",
       "      <td>/Users/admin/Downloads/kagglecatsanddogs_5340/...</td>\n",
       "      <td>1</td>\n",
       "    </tr>\n",
       "    <tr>\n",
       "      <th>3</th>\n",
       "      <td>/Users/admin/Downloads/kagglecatsanddogs_5340/...</td>\n",
       "      <td>0</td>\n",
       "    </tr>\n",
       "    <tr>\n",
       "      <th>4</th>\n",
       "      <td>/Users/admin/Downloads/kagglecatsanddogs_5340/...</td>\n",
       "      <td>1</td>\n",
       "    </tr>\n",
       "  </tbody>\n",
       "</table>\n",
       "</div>"
      ],
      "text/plain": [
       "                                              images label\n",
       "0  /Users/admin/Downloads/kagglecatsanddogs_5340/...     0\n",
       "1  /Users/admin/Downloads/kagglecatsanddogs_5340/...     0\n",
       "2  /Users/admin/Downloads/kagglecatsanddogs_5340/...     1\n",
       "3  /Users/admin/Downloads/kagglecatsanddogs_5340/...     0\n",
       "4  /Users/admin/Downloads/kagglecatsanddogs_5340/...     1"
      ]
     },
     "execution_count": 50,
     "metadata": {},
     "output_type": "execute_result"
    }
   ],
   "source": [
    "df.head()"
   ]
  },
  {
   "cell_type": "code",
   "execution_count": 51,
   "id": "b5cfc90d",
   "metadata": {},
   "outputs": [
    {
     "data": {
      "text/plain": [
       "<Figure size 2500x2500 with 0 Axes>"
      ]
     },
     "metadata": {},
     "output_type": "display_data"
    }
   ],
   "source": [
    "plt.figure(figsize=(25,25))\n",
    "temp = df[df['label']==1]['images']\n",
    "start = random.randint(0,len(temp))\n",
    "files = temp[start:start+25]\n",
    "for index,file in enumerate(files):\n",
    "  plt.subplot(5,5,index+1)\n",
    "  img = tensorflow.keras.utils.load_img(file)\n",
    "  img = np.array(img)\n",
    "  plt.imshow(img)\n",
    "  plt.title('Dogs')\n",
    "  plt.axis('off')"
   ]
  },
  {
   "cell_type": "code",
   "execution_count": 52,
   "id": "b85152da",
   "metadata": {},
   "outputs": [
    {
     "data": {
      "text/plain": [
       "<Figure size 2500x2500 with 0 Axes>"
      ]
     },
     "metadata": {},
     "output_type": "display_data"
    }
   ],
   "source": [
    "plt.figure(figsize=(25,25))\n",
    "temp = df[df['label']==0]['images']\n",
    "start = random.randint(0,len(temp))\n",
    "files = temp[start:start+25]\n",
    "for index,file in enumerate(files):\n",
    "  plt.subplot(5,5,index+1)\n",
    "  img = tensorflow.keras.utils.load_img(file)\n",
    "  img = np.array(img)\n",
    "  plt.imshow(img)\n",
    "  plt.title('Cats')\n",
    "  plt.axis('off')"
   ]
  },
  {
   "cell_type": "code",
   "execution_count": 53,
   "id": "39b146bd",
   "metadata": {},
   "outputs": [
    {
     "data": {
      "text/plain": [
       "<Axes: ylabel='count'>"
      ]
     },
     "execution_count": 53,
     "metadata": {},
     "output_type": "execute_result"
    },
    {
     "data": {
      "image/png": "[encoded data removed]",
      "text/plain": [
       "<Figure size 640x480 with 1 Axes>"
      ]
     },
     "metadata": {},
     "output_type": "display_data"
    }
   ],
   "source": [
    "import seaborn as sns\n",
    "sns.countplot(df['label'])"
   ]
  },
  {
   "cell_type": "markdown",
   "id": "6f26db3a",
   "metadata": {},
   "source": [
    "DataGenerators for the images"
   ]
  },
  {
   "cell_type": "code",
   "execution_count": 54,
   "id": "2c6bd795",
   "metadata": {},
   "outputs": [],
   "source": [
    "#input split\n",
    "from sklearn.model_selection import train_test_split\n",
    "train,test = train_test_split(df,test_size = 0.2,random_state = 42)"
   ]
  },
  {
   "cell_type": "code",
   "execution_count": 55,
   "id": "30a0858a",
   "metadata": {},
   "outputs": [
    {
     "data": {
      "text/html": [
       "<div>\n",
       "<style scoped>\n",
       "    .dataframe tbody tr th:only-of-type {\n",
       "        vertical-align: middle;\n",
       "    }\n",
       "\n",
       "    .dataframe tbody tr th {\n",
       "        vertical-align: top;\n",
       "    }\n",
       "\n",
       "    .dataframe thead th {\n",
       "        text-align: right;\n",
       "    }\n",
       "</style>\n",
       "<table border=\"1\" class=\"dataframe\">\n",
       "  <thead>\n",
       "    <tr style=\"text-align: right;\">\n",
       "      <th></th>\n",
       "      <th>images</th>\n",
       "      <th>label</th>\n",
       "    </tr>\n",
       "  </thead>\n",
       "  <tbody>\n",
       "    <tr>\n",
       "      <th>16248</th>\n",
       "      <td>/Users/admin/Downloads/kagglecatsanddogs_5340/...</td>\n",
       "      <td>0</td>\n",
       "    </tr>\n",
       "    <tr>\n",
       "      <th>695</th>\n",
       "      <td>/Users/admin/Downloads/kagglecatsanddogs_5340/...</td>\n",
       "      <td>0</td>\n",
       "    </tr>\n",
       "    <tr>\n",
       "      <th>17155</th>\n",
       "      <td>/Users/admin/Downloads/kagglecatsanddogs_5340/...</td>\n",
       "      <td>0</td>\n",
       "    </tr>\n",
       "    <tr>\n",
       "      <th>21826</th>\n",
       "      <td>/Users/admin/Downloads/kagglecatsanddogs_5340/...</td>\n",
       "      <td>1</td>\n",
       "    </tr>\n",
       "    <tr>\n",
       "      <th>1020</th>\n",
       "      <td>/Users/admin/Downloads/kagglecatsanddogs_5340/...</td>\n",
       "      <td>0</td>\n",
       "    </tr>\n",
       "  </tbody>\n",
       "</table>\n",
       "</div>"
      ],
      "text/plain": [
       "                                                  images label\n",
       "16248  /Users/admin/Downloads/kagglecatsanddogs_5340/...     0\n",
       "695    /Users/admin/Downloads/kagglecatsanddogs_5340/...     0\n",
       "17155  /Users/admin/Downloads/kagglecatsanddogs_5340/...     0\n",
       "21826  /Users/admin/Downloads/kagglecatsanddogs_5340/...     1\n",
       "1020   /Users/admin/Downloads/kagglecatsanddogs_5340/...     0"
      ]
     },
     "execution_count": 55,
     "metadata": {},
     "output_type": "execute_result"
    }
   ],
   "source": [
    "train.head()"
   ]
  },
  {
   "cell_type": "code",
   "execution_count": 56,
   "id": "b7fd2d24",
   "metadata": {},
   "outputs": [
    {
     "name": "stdout",
     "output_type": "stream",
     "text": [
      "Found 20000 validated image filenames belonging to 2 classes.\n",
      "Found 5000 validated image filenames belonging to 2 classes.\n"
     ]
    }
   ],
   "source": [
    "from keras.preprocessing.image import ImageDataGenerator\n",
    "train_generator = ImageDataGenerator(\n",
    "    rescale = 1./255,#normalisation of image\n",
    "    rotation_range = 40,#Augmentation of image To avoid overfitting\n",
    "    shear_range = 0.2,\n",
    "    zoom_range = 0.2,\n",
    "    horizontal_flip = True,\n",
    "    fill_mode = 'nearest',\n",
    "    )\n",
    "\n",
    "val_generator = ImageDataGenerator(1./255)\n",
    "\n",
    "train_iterator = train_generator.flow_from_dataframe(train,\n",
    "                                                     x_col = 'images',\n",
    "                                                     y_col = 'label',\n",
    "                                                     target_size = (128,128),\n",
    "                                                     batch_size = 512,\n",
    "                                                     class_mode = 'binary'\n",
    "                                                     )\n",
    "val_iterator = val_generator.flow_from_dataframe(test,\n",
    "                                                     x_col = 'images',\n",
    "                                                     y_col = 'label',\n",
    "                                                     target_size = (128,128),\n",
    "                                                     batch_size = 512,\n",
    "                                                     class_mode = 'binary'\n",
    "                                                     )"
   ]
  },
  {
   "cell_type": "markdown",
   "id": "d83603cd",
   "metadata": {},
   "source": [
    "    CREATING MODEL\n",
    "   "
   ]
  },
  {
   "cell_type": "code",
   "execution_count": 85,
   "id": "5f785d0c",
   "metadata": {},
   "outputs": [],
   "source": [
    "from keras import Sequential\n",
    "from keras.layers import Conv2D,MaxPool2D,Flatten,Dense\n",
    "\n",
    "model = Sequential([\n",
    "    Conv2D(16,(3,3),activation = 'relu',input_shape = (128,128,3)),\n",
    "     MaxPool2D((2,2)),\n",
    "     Conv2D(32,(3,3),activation = 'relu'),\n",
    "     MaxPool2D((2,2)),\n",
    "     Conv2D(64,(3,3),activation = 'relu'),\n",
    "     MaxPool2D((2,2)),\n",
    "     Flatten(),\n",
    "     Dense(512,activation = 'relu'),\n",
    "     Dense(1,activation = 'sigmoid')\n",
    "])"
   ]
  },
  {
   "cell_type": "code",
   "execution_count": 86,
   "id": "c1adae68",
   "metadata": {
    "scrolled": true
   },
   "outputs": [
    {
     "name": "stdout",
     "output_type": "stream",
     "text": [
      "Model: \"sequential_10\"\n",
      "_________________________________________________________________\n",
      " Layer (type)                Output Shape              Param #   \n",
      "=================================================================\n",
      " conv2d_33 (Conv2D)          (None, 126, 126, 16)      448       \n",
      "                                                                 \n",
      " max_pooling2d_33 (MaxPooli  (None, 63, 63, 16)        0         \n",
      " ng2D)                                                           \n",
      "                                                                 \n",
      " conv2d_34 (Conv2D)          (None, 61, 61, 32)        4640      \n",
      "                                                                 \n",
      " max_pooling2d_34 (MaxPooli  (None, 30, 30, 32)        0         \n",
      " ng2D)                                                           \n",
      "                                                                 \n",
      " conv2d_35 (Conv2D)          (None, 28, 28, 64)        18496     \n",
      "                                                                 \n",
      " max_pooling2d_35 (MaxPooli  (None, 14, 14, 64)        0         \n",
      " ng2D)                                                           \n",
      "                                                                 \n",
      " flatten_10 (Flatten)        (None, 12544)             0         \n",
      "                                                                 \n",
      " dense_20 (Dense)            (None, 512)               6423040   \n",
      "                                                                 \n",
      " dense_21 (Dense)            (None, 1)                 513       \n",
      "                                                                 \n",
      "=================================================================\n",
      "Total params: 6447137 (24.59 MB)\n",
      "Trainable params: 6447137 (24.59 MB)\n",
      "Non-trainable params: 0 (0.00 Byte)\n",
      "_________________________________________________________________\n"
     ]
    }
   ],
   "source": [
    "from tensorflow.keras.optimizers.legacy import Adam\n",
    "model.compile(optimizer = 'adam',loss = 'binary_crossentropy',metrics = ['accuracy'])#adam learns and improves model\n",
    "model.summary()"
   ]
  },
  {
   "cell_type": "code",
   "execution_count": 87,
   "id": "f211e1ed",
   "metadata": {
    "scrolled": true
   },
   "outputs": [
    {
     "name": "stdout",
     "output_type": "stream",
     "text": [
      "Epoch 1/20\n",
      "An error occurred during training: pybind11::error_already_set: MISMATCH of original and normalized active exception types: ORIGINAL InvalidArgumentError REPLACED BY KeyboardInterrupt: <EMPTY MESSAGE>\n",
      "\n",
      "At:\n",
      "  /Users/admin/Desktop/venv/lib/python3.11/site-packages/tensorflow/python/framework/errors_impl.py(284): __init__\n",
      "  /Users/admin/Desktop/venv/lib/python3.11/site-packages/tensorflow/python/eager/execute.py(53): quick_execute\n",
      "  /Users/admin/Desktop/venv/lib/python3.11/site-packages/tensorflow/python/eager/context.py(1457): call_function\n",
      "  /Users/admin/Desktop/venv/lib/python3.11/site-packages/tensorflow/python/eager/polymorphic_function/atomic_function.py(196): __call__\n",
      "  /Users/admin/Desktop/venv/lib/python3.11/site-packages/tensorflow/python/eager/polymorphic_function/monomorphic_function.py(1349): _call_flat\n",
      "  /Users/admin/Desktop/venv/lib/python3.11/site-packages/tensorflow/python/eager/polymorphic_function/tracing_compiler.py(148): __call__\n",
      "  /Users/admin/Desktop/venv/lib/python3.11/site-packages/tensorflow/python/eager/polymorphic_function/polymorphic_function.py(890): _call\n",
      "  /Users/admin/Desktop/venv/lib/python3.11/site-packages/tensorflow/python/eager/polymorphic_function/polymorphic_function.py(825): __call__\n",
      "  /Users/admin/Desktop/venv/lib/python3.11/site-packages/tensorflow/python/util/traceback_utils.py(150): error_handler\n",
      "  /Users/admin/Desktop/venv/lib/python3.11/site-packages/keras/src/engine/training.py(1742): fit\n",
      "  /Users/admin/Desktop/venv/lib/python3.11/site-packages/keras/src/utils/traceback_utils.py(65): error_handler\n",
      "  /var/folders/zx/zwzf29_d0751jlkhq2w72cw40000gn/T/ipykernel_879/3223343977.py(2): <module>\n",
      "  /Users/admin/Desktop/venv/lib/python3.11/site-packages/IPython/core/interactiveshell.py(3508): run_code\n",
      "  /Users/admin/Desktop/venv/lib/python3.11/site-packages/IPython/core/interactiveshell.py(3448): run_ast_nodes\n",
      "  /Users/admin/Desktop/venv/lib/python3.11/site-packages/IPython/core/interactiveshell.py(3269): run_cell_async\n",
      "  /Users/admin/Desktop/venv/lib/python3.11/site-packages/IPython/core/async_helpers.py(129): _pseudo_sync_runner\n",
      "  /Users/admin/Desktop/venv/lib/python3.11/site-packages/IPython/core/interactiveshell.py(3064): _run_cell\n",
      "  /Users/admin/Desktop/venv/lib/python3.11/site-packages/IPython/core/interactiveshell.py(3009): run_cell\n",
      "  /Users/admin/Desktop/venv/lib/python3.11/site-packages/ipykernel/zmqshell.py(540): run_cell\n",
      "  /Users/admin/Desktop/venv/lib/python3.11/site-packages/ipykernel/ipkernel.py(422): do_execute\n",
      "  /Users/admin/Desktop/venv/lib/python3.11/site-packages/ipykernel/kernelbase.py(740): execute_request\n",
      "  /Users/admin/Desktop/venv/lib/python3.11/site-packages/ipykernel/kernelbase.py(412): dispatch_shell\n",
      "  /Users/admin/Desktop/venv/lib/python3.11/site-packages/ipykernel/kernelbase.py(505): process_one\n",
      "  /Users/admin/Desktop/venv/lib/python3.11/site-packages/ipykernel/kernelbase.py(516): dispatch_queue\n",
      "  /Library/Frameworks/Python.framework/Versions/3.11/lib/python3.11/asyncio/events.py(80): _run\n",
      "  /Library/Frameworks/Python.framework/Versions/3.11/lib/python3.11/asyncio/base_events.py(1922): _run_once\n",
      "  /Library/Frameworks/Python.framework/Versions/3.11/lib/python3.11/asyncio/base_events.py(607): run_forever\n",
      "  /Users/admin/Desktop/venv/lib/python3.11/site-packages/tornado/platform/asyncio.py(195): start\n",
      "  /Users/admin/Desktop/venv/lib/python3.11/site-packages/ipykernel/kernelapp.py(728): start\n",
      "  /Users/admin/Desktop/venv/lib/python3.11/site-packages/traitlets/config/application.py(1043): launch_instance\n",
      "  /Users/admin/Desktop/venv/lib/python3.11/site-packages/ipykernel_launcher.py(17): <module>\n",
      "  <frozen runpy>(88): _run_code\n",
      "  <frozen runpy>(198): _run_module_as_main\n",
      "\n"
     ]
    }
   ],
   "source": [
    "try:\n",
    "    history = model.fit(train_iterator, epochs=20, validation_data=val_iterator)\n",
    "except Exception as e:\n",
    "    print(f\"An error occurred during training: {str(e)}\")\n",
    "\n"
   ]
  },
  {
   "cell_type": "code",
   "execution_count": null,
   "id": "58c1a875",
   "metadata": {},
   "outputs": [],
   "source": []
  }
 ],
 "metadata": {
  "kernelspec": {
   "display_name": "Python 3 (ipykernel)",
   "language": "python",
   "name": "python3"
  },
  "language_info": {
   "codemirror_mode": {
    "name": "ipython",
    "version": 3
   },
   "file_extension": ".py",
   "mimetype": "text/x-python",
   "name": "python",
   "nbconvert_exporter": "python",
   "pygments_lexer": "ipython3",
   "version": "3.11.4"
  }
 },
 "nbformat": 4,
 "nbformat_minor": 5
}
