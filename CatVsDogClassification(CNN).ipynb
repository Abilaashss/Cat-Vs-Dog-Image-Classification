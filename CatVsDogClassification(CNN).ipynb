{
 "cells": [
  {
   "cell_type": "markdown",
   "id": "e27b4906",
   "metadata": {},
   "source": [
    "IMPORTING THE REQUIRED MODULES AND LIBRARIES"
   ]
  },
  {
   "cell_type": "code",
   "execution_count": 118,
   "id": "aad4cf3d",
   "metadata": {},
   "outputs": [],
   "source": [
    "import numpy as np\n",
    "import pandas as pd\n",
    "import matplotlib.pyplot as plt\n",
    "import os\n",
    "import warnings\n",
    "import tqdm\n",
    "from keras.preprocessing.image import load_img\n",
    "warnings.filterwarnings('ignore')\n",
    "import random\n",
    "import tensorflow"
   ]
  },
  {
   "cell_type": "markdown",
   "id": "32d5e55c",
   "metadata": {},
   "source": [
    "Create DataFrame for Input and Output"
   ]
  },
  {
   "cell_type": "code",
   "execution_count": 119,
   "id": "5a399c6d",
   "metadata": {},
   "outputs": [],
   "source": [
    "directory = \"/Users/admin/Downloads/kagglecatsanddogs_5340/PetImages\"\n",
    "input_path = []  \n",
    "label = []       \n",
    "\n",
    "for class_name in os.listdir(directory):\n",
    "    class_path = os.path.join(directory, class_name)\n",
    "    \n",
    "    if os.path.isdir(class_path):\n",
    "        for path in os.listdir(class_path):\n",
    "            image_path = os.path.join(class_path, path)\n",
    "            input_path.append(image_path)\n",
    "            if class_name == 'Cat':\n",
    "                label.append(0)\n",
    "            elif class_name == 'Dog':\n",
    "                label.append(1)"
   ]
  },
  {
   "cell_type": "code",
   "execution_count": 120,
   "id": "a29dcc54",
   "metadata": {},
   "outputs": [
    {
     "name": "stdout",
     "output_type": "stream",
     "text": [
      "/Users/admin/Downloads/kagglecatsanddogs_5340/PetImages/Cat/9733.jpg 0\n"
     ]
    }
   ],
   "source": [
    "print(input_path[0],label[0])"
   ]
  },
  {
   "cell_type": "code",
   "execution_count": 121,
   "id": "7b88e26b",
   "metadata": {},
   "outputs": [
    {
     "name": "stdout",
     "output_type": "stream",
     "text": [
      "True\n"
     ]
    }
   ],
   "source": [
    "if len(label)==len(input_path):\n",
    "  print(\"True\")\n",
    "else:\n",
    "  print(\"False\")"
   ]
  },
  {
   "cell_type": "code",
   "execution_count": 122,
   "id": "9ef2bc43",
   "metadata": {},
   "outputs": [],
   "source": [
    "df=pd.DataFrame()\n",
    "df['images'] = input_path\n",
    "df['label'] = label\n",
    "df = df.sample(frac=1).reset_index(drop = True)"
   ]
  },
  {
   "cell_type": "code",
   "execution_count": 128,
   "id": "3db5fdd0",
   "metadata": {},
   "outputs": [
    {
     "name": "stdout",
     "output_type": "stream",
     "text": [
      "/Users/admin/Downloads/kagglecatsanddogs_5340/PetImages/Dog/Thumbs.db\n",
      "/Users/admin/Downloads/kagglecatsanddogs_5340/PetImages/Cat/Thumbs.db\n"
     ]
    }
   ],
   "source": [
    "for i in df['images']:\n",
    "    if '.jpg' not in i:\n",
    "        print(i)"
   ]
  },
  {
   "cell_type": "code",
   "execution_count": 129,
   "id": "ba93e651",
   "metadata": {},
   "outputs": [
    {
     "data": {
      "text/plain": [
       "['/Users/admin/Downloads/kagglecatsanddogs_5340/PetImages/Dog/11702.jpg',\n",
       " '/Users/admin/Downloads/kagglecatsanddogs_5340/PetImages/Dog/Thumbs.db',\n",
       " '/Users/admin/Downloads/kagglecatsanddogs_5340/PetImages/Cat/666.jpg',\n",
       " '/Users/admin/Downloads/kagglecatsanddogs_5340/PetImages/Cat/Thumbs.db']"
      ]
     },
     "execution_count": 129,
     "metadata": {},
     "output_type": "execute_result"
    }
   ],
   "source": [
    "import PIL\n",
    "l = []\n",
    "for image in df['images']:\n",
    "    try:\n",
    "        img = PIL.Image.open(image)\n",
    "    except:\n",
    "        l.append(image)\n",
    "l"
   ]
  },
  {
   "cell_type": "code",
   "execution_count": 131,
   "id": "786b32cd",
   "metadata": {},
   "outputs": [
    {
     "data": {
      "text/plain": [
       "24998"
      ]
     },
     "execution_count": 131,
     "metadata": {},
     "output_type": "execute_result"
    }
   ],
   "source": [
    "# delete db files\n",
    "df = df[df['images']!='/Users/admin/Downloads/kagglecatsanddogs_5340/PetImages/Dog/11702.jpg']\n",
    "df = df[df['images']!='/Users/admin/Downloads/kagglecatsanddogs_5340/PetImages/Dog/Thumbs.db']\n",
    "df = df[df['images']!='/Users/admin/Downloads/kagglecatsanddogs_5340/PetImages/Cat/666.jpg']\n",
    "df = df[df['images']!='/Users/admin/Downloads/kagglecatsanddogs_5340/PetImages/Cat/Thumbs.db']\n",
    "len(df)"
   ]
  },
  {
   "cell_type": "markdown",
   "id": "181fb290",
   "metadata": {},
   "source": [
    "    EXPLORATORY DATA ANALYSIS"
   ]
  },
  {
   "cell_type": "code",
   "execution_count": 125,
   "id": "b5cfc90d",
   "metadata": {},
   "outputs": [
    {
     "data": {
      "text/plain": [
       "<Figure size 2500x2500 with 0 Axes>"
      ]
     },
     "metadata": {},
     "output_type": "display_data"
    }
   ],
   "source": [
    "plt.figure(figsize=(25,25))\n",
    "temp = df[df['label']==1]['images']\n",
    "start = random.randint(0,len(temp))\n",
    "files = temp[start:start+25]\n",
    "for index,file in enumerate(files):\n",
    "  plt.subplot(5,5,index+1)\n",
    "  img = tensorflow.keras.utils.load_img(file)\n",
    "  img = np.array(img)\n",
    "  plt.imshow(img)\n",
    "  plt.title('Dogs')\n",
    "  plt.axis('off')"
   ]
  },
  {
   "cell_type": "code",
   "execution_count": 126,
   "id": "b85152da",
   "metadata": {},
   "outputs": [
    {
     "data": {
      "text/plain": [
       "<Figure size 2500x2500 with 0 Axes>"
      ]
     },
     "metadata": {},
     "output_type": "display_data"
    }
   ],
   "source": [
    "plt.figure(figsize=(25,25))\n",
    "temp = df[df['label']==0]['images']\n",
    "start = random.randint(0,len(temp))\n",
    "files = temp[start:start+25]\n",
    "for index,file in enumerate(files):\n",
    "  plt.subplot(5,5,index+1)\n",
    "  img = tensorflow.keras.utils.load_img(file)\n",
    "  img = np.array(img)\n",
    "  plt.imshow(img)\n",
    "  plt.title('Cats')\n",
    "  plt.axis('off')"
   ]
  },
  {
   "cell_type": "code",
   "execution_count": 127,
   "id": "ca51c8dd",
   "metadata": {
    "scrolled": true
   },
   "outputs": [
    {
     "data": {
      "text/plain": [
       "<Axes: ylabel='count'>"
      ]
     },
     "execution_count": 127,
     "metadata": {},
     "output_type": "execute_result"
    },
    {
     "data": {
      "image/png": "[encoded data removed]",
      "text/plain": [
       "<Figure size 640x480 with 1 Axes>"
      ]
     },
     "metadata": {},
     "output_type": "display_data"
    }
   ],
   "source": [
    "import seaborn as sns\n",
    "sns.countplot(df['label'])"
   ]
  },
  {
   "cell_type": "code",
   "execution_count": 132,
   "id": "da93e7b5",
   "metadata": {},
   "outputs": [],
   "source": [
    "df['label'] = df['label'].astype('str')"
   ]
  },
  {
   "cell_type": "code",
   "execution_count": 133,
   "id": "f4a26682",
   "metadata": {},
   "outputs": [
    {
     "data": {
      "text/html": [
       "<div>\n",
       "<style scoped>\n",
       "    .dataframe tbody tr th:only-of-type {\n",
       "        vertical-align: middle;\n",
       "    }\n",
       "\n",
       "    .dataframe tbody tr th {\n",
       "        vertical-align: top;\n",
       "    }\n",
       "\n",
       "    .dataframe thead th {\n",
       "        text-align: right;\n",
       "    }\n",
       "</style>\n",
       "<table border=\"1\" class=\"dataframe\">\n",
       "  <thead>\n",
       "    <tr style=\"text-align: right;\">\n",
       "      <th></th>\n",
       "      <th>images</th>\n",
       "      <th>label</th>\n",
       "    </tr>\n",
       "  </thead>\n",
       "  <tbody>\n",
       "    <tr>\n",
       "      <th>0</th>\n",
       "      <td>/Users/admin/Downloads/kagglecatsanddogs_5340/...</td>\n",
       "      <td>0</td>\n",
       "    </tr>\n",
       "    <tr>\n",
       "      <th>1</th>\n",
       "      <td>/Users/admin/Downloads/kagglecatsanddogs_5340/...</td>\n",
       "      <td>1</td>\n",
       "    </tr>\n",
       "    <tr>\n",
       "      <th>2</th>\n",
       "      <td>/Users/admin/Downloads/kagglecatsanddogs_5340/...</td>\n",
       "      <td>0</td>\n",
       "    </tr>\n",
       "    <tr>\n",
       "      <th>3</th>\n",
       "      <td>/Users/admin/Downloads/kagglecatsanddogs_5340/...</td>\n",
       "      <td>0</td>\n",
       "    </tr>\n",
       "    <tr>\n",
       "      <th>4</th>\n",
       "      <td>/Users/admin/Downloads/kagglecatsanddogs_5340/...</td>\n",
       "      <td>1</td>\n",
       "    </tr>\n",
       "  </tbody>\n",
       "</table>\n",
       "</div>"
      ],
      "text/plain": [
       "                                              images label\n",
       "0  /Users/admin/Downloads/kagglecatsanddogs_5340/...     0\n",
       "1  /Users/admin/Downloads/kagglecatsanddogs_5340/...     1\n",
       "2  /Users/admin/Downloads/kagglecatsanddogs_5340/...     0\n",
       "3  /Users/admin/Downloads/kagglecatsanddogs_5340/...     0\n",
       "4  /Users/admin/Downloads/kagglecatsanddogs_5340/...     1"
      ]
     },
     "execution_count": 133,
     "metadata": {},
     "output_type": "execute_result"
    }
   ],
   "source": [
    "df.head()"
   ]
  },
  {
   "cell_type": "markdown",
   "id": "60a4cf23",
   "metadata": {},
   "source": [
    "DATAGENERATORS FOR IMAGES"
   ]
  },
  {
   "cell_type": "code",
   "execution_count": 134,
   "id": "0396502a",
   "metadata": {},
   "outputs": [],
   "source": [
    "from sklearn.model_selection import train_test_split\n",
    "train, test = train_test_split(df, test_size=0.2, random_state=42)"
   ]
  },
  {
   "cell_type": "code",
   "execution_count": 135,
   "id": "66ae95c4",
   "metadata": {},
   "outputs": [
    {
     "name": "stdout",
     "output_type": "stream",
     "text": [
      "Found 19998 validated image filenames belonging to 2 classes.\n",
      "Found 5000 validated image filenames belonging to 2 classes.\n"
     ]
    }
   ],
   "source": [
    "from keras.preprocessing.image import ImageDataGenerator\n",
    "train_generator = ImageDataGenerator(\n",
    "    rescale = 1./255,#normalisation of image\n",
    "    rotation_range = 40,#Augmentation of image To avoid overfitting\n",
    "    shear_range = 0.2,\n",
    "    zoom_range = 0.2,\n",
    "    horizontal_flip = True,\n",
    "    fill_mode = 'nearest',\n",
    "    )\n",
    "val_generator = ImageDataGenerator(rescale=1./255)\n",
    "\n",
    "train_iterator = train_generator.flow_from_dataframe(train,\n",
    "                                                     x_col = 'images',\n",
    "                                                     y_col = 'label',\n",
    "                                                     target_size = (128,128),\n",
    "                                                     batch_size = 512,\n",
    "                                                     class_mode = 'binary'\n",
    "                                                     )\n",
    "val_iterator = val_generator.flow_from_dataframe(test,\n",
    "                                                     x_col = 'images',\n",
    "                                                     y_col = 'label',\n",
    "                                                     target_size = (128,128),\n",
    "                                                     batch_size = 512,\n",
    "                                                     class_mode = 'binary'\n",
    "                                                     )"
   ]
  },
  {
   "cell_type": "markdown",
   "id": "b93e3898",
   "metadata": {},
   "source": [
    "MODEL CREATION"
   ]
  },
  {
   "cell_type": "code",
   "execution_count": 136,
   "id": "79312ab7",
   "metadata": {},
   "outputs": [],
   "source": [
    "from keras import Sequential\n",
    "from keras.layers import Conv2D, MaxPool2D, Flatten, Dense\n",
    "\n",
    "model = Sequential([\n",
    "                    Conv2D(16, (3,3), activation='relu', input_shape=(128,128,3)),\n",
    "                    MaxPool2D((2,2)),\n",
    "                    Conv2D(32, (3,3), activation='relu'),\n",
    "                    MaxPool2D((2,2)),\n",
    "                    Conv2D(64, (3,3), activation='relu'),\n",
    "                    MaxPool2D((2,2)),\n",
    "                    Flatten(),\n",
    "                    Dense(512, activation='relu'),\n",
    "                    Dense(1, activation='sigmoid')\n",
    "])"
   ]
  },
  {
   "cell_type": "code",
   "execution_count": 137,
   "id": "4c06bf35",
   "metadata": {},
   "outputs": [
    {
     "name": "stdout",
     "output_type": "stream",
     "text": [
      "Model: \"sequential_13\"\n",
      "_________________________________________________________________\n",
      " Layer (type)                Output Shape              Param #   \n",
      "=================================================================\n",
      " conv2d_44 (Conv2D)          (None, 126, 126, 16)      448       \n",
      "                                                                 \n",
      " max_pooling2d_42 (MaxPooli  (None, 63, 63, 16)        0         \n",
      " ng2D)                                                           \n",
      "                                                                 \n",
      " conv2d_45 (Conv2D)          (None, 61, 61, 32)        4640      \n",
      "                                                                 \n",
      " max_pooling2d_43 (MaxPooli  (None, 30, 30, 32)        0         \n",
      " ng2D)                                                           \n",
      "                                                                 \n",
      " conv2d_46 (Conv2D)          (None, 28, 28, 64)        18496     \n",
      "                                                                 \n",
      " max_pooling2d_44 (MaxPooli  (None, 14, 14, 64)        0         \n",
      " ng2D)                                                           \n",
      "                                                                 \n",
      " flatten_13 (Flatten)        (None, 12544)             0         \n",
      "                                                                 \n",
      " dense_26 (Dense)            (None, 512)               6423040   \n",
      "                                                                 \n",
      " dense_27 (Dense)            (None, 1)                 513       \n",
      "                                                                 \n",
      "=================================================================\n",
      "Total params: 6447137 (24.59 MB)\n",
      "Trainable params: 6447137 (24.59 MB)\n",
      "Non-trainable params: 0 (0.00 Byte)\n",
      "_________________________________________________________________\n"
     ]
    }
   ],
   "source": [
    "model.compile(optimizer='adam', loss='binary_crossentropy', metrics=['accuracy'])\n",
    "model.summary()"
   ]
  },
  {
   "cell_type": "code",
   "execution_count": 139,
   "id": "8d393530",
   "metadata": {},
   "outputs": [
    {
     "name": "stdout",
     "output_type": "stream",
     "text": [
      "Epoch 1/30\n",
      "40/40 [==============================] - 99s 2s/step - loss: 0.6317 - accuracy: 0.6402 - val_loss: 0.6511 - val_accuracy: 0.6018\n",
      "Epoch 2/30\n",
      "40/40 [==============================] - 97s 2s/step - loss: 0.5912 - accuracy: 0.6849 - val_loss: 0.5643 - val_accuracy: 0.7054\n",
      "Epoch 3/30\n",
      "40/40 [==============================] - 97s 2s/step - loss: 0.5684 - accuracy: 0.7051 - val_loss: 0.5590 - val_accuracy: 0.7038\n",
      "Epoch 4/30\n",
      "40/40 [==============================] - 100s 2s/step - loss: 0.5548 - accuracy: 0.7189 - val_loss: 0.5284 - val_accuracy: 0.7300\n",
      "Epoch 5/30\n",
      "40/40 [==============================] - 103s 3s/step - loss: 0.5329 - accuracy: 0.7320 - val_loss: 0.5261 - val_accuracy: 0.7346\n",
      "Epoch 6/30\n",
      "40/40 [==============================] - 105s 3s/step - loss: 0.5155 - accuracy: 0.7416 - val_loss: 0.5113 - val_accuracy: 0.7448\n",
      "Epoch 7/30\n",
      "40/40 [==============================] - 108s 3s/step - loss: 0.4976 - accuracy: 0.7587 - val_loss: 0.4751 - val_accuracy: 0.7706\n",
      "Epoch 8/30\n",
      "40/40 [==============================] - 111s 3s/step - loss: 0.4834 - accuracy: 0.7685 - val_loss: 0.4640 - val_accuracy: 0.7818\n",
      "Epoch 9/30\n",
      "40/40 [==============================] - 107s 3s/step - loss: 0.4824 - accuracy: 0.7675 - val_loss: 0.4653 - val_accuracy: 0.7766\n",
      "Epoch 10/30\n",
      "40/40 [==============================] - 110s 3s/step - loss: 0.4728 - accuracy: 0.7782 - val_loss: 0.4725 - val_accuracy: 0.7752\n",
      "Epoch 11/30\n",
      "40/40 [==============================] - 105s 3s/step - loss: 0.4663 - accuracy: 0.7790 - val_loss: 0.4401 - val_accuracy: 0.7988\n",
      "Epoch 12/30\n",
      "40/40 [==============================] - 104s 3s/step - loss: 0.4500 - accuracy: 0.7890 - val_loss: 0.4455 - val_accuracy: 0.7932\n",
      "Epoch 13/30\n",
      "40/40 [==============================] - 103s 3s/step - loss: 0.4534 - accuracy: 0.7854 - val_loss: 0.4820 - val_accuracy: 0.7664\n",
      "Epoch 14/30\n",
      "40/40 [==============================] - 107s 3s/step - loss: 0.4304 - accuracy: 0.8000 - val_loss: 0.4328 - val_accuracy: 0.7998\n",
      "Epoch 15/30\n",
      "40/40 [==============================] - 102s 3s/step - loss: 0.4409 - accuracy: 0.7934 - val_loss: 0.4254 - val_accuracy: 0.8054\n",
      "Epoch 16/30\n",
      "40/40 [==============================] - 102s 3s/step - loss: 0.4294 - accuracy: 0.8018 - val_loss: 0.4197 - val_accuracy: 0.8084\n",
      "Epoch 17/30\n",
      "40/40 [==============================] - 101s 3s/step - loss: 0.4318 - accuracy: 0.8006 - val_loss: 0.4164 - val_accuracy: 0.8168\n",
      "Epoch 18/30\n",
      "40/40 [==============================] - 109s 3s/step - loss: 0.4259 - accuracy: 0.8029 - val_loss: 0.4013 - val_accuracy: 0.8146\n",
      "Epoch 19/30\n",
      "40/40 [==============================] - 100s 2s/step - loss: 0.4066 - accuracy: 0.8140 - val_loss: 0.4045 - val_accuracy: 0.8166\n",
      "Epoch 20/30\n",
      "40/40 [==============================] - 105s 3s/step - loss: 0.3964 - accuracy: 0.8200 - val_loss: 0.4105 - val_accuracy: 0.8136\n",
      "Epoch 21/30\n",
      "40/40 [==============================] - 97s 2s/step - loss: 0.4039 - accuracy: 0.8156 - val_loss: 0.4038 - val_accuracy: 0.8170\n",
      "Epoch 22/30\n",
      "40/40 [==============================] - 100s 2s/step - loss: 0.3878 - accuracy: 0.8228 - val_loss: 0.4269 - val_accuracy: 0.8010\n",
      "Epoch 23/30\n",
      "40/40 [==============================] - 102s 3s/step - loss: 0.3890 - accuracy: 0.8242 - val_loss: 0.4074 - val_accuracy: 0.8074\n",
      "Epoch 24/30\n",
      "40/40 [==============================] - 106s 3s/step - loss: 0.3803 - accuracy: 0.8294 - val_loss: 0.4141 - val_accuracy: 0.8096\n",
      "Epoch 25/30\n",
      "40/40 [==============================] - 107s 3s/step - loss: 0.3734 - accuracy: 0.8352 - val_loss: 0.3902 - val_accuracy: 0.8266\n",
      "Epoch 26/30\n",
      "40/40 [==============================] - 109s 3s/step - loss: 0.3668 - accuracy: 0.8371 - val_loss: 0.3817 - val_accuracy: 0.8264\n",
      "Epoch 27/30\n",
      "40/40 [==============================] - 104s 3s/step - loss: 0.3717 - accuracy: 0.8328 - val_loss: 0.3904 - val_accuracy: 0.8202\n",
      "Epoch 28/30\n",
      "40/40 [==============================] - 98s 2s/step - loss: 0.3693 - accuracy: 0.8363 - val_loss: 0.3882 - val_accuracy: 0.8254\n",
      "Epoch 29/30\n",
      "40/40 [==============================] - 107s 3s/step - loss: 0.3580 - accuracy: 0.8407 - val_loss: 0.3636 - val_accuracy: 0.8386\n",
      "Epoch 30/30\n",
      "40/40 [==============================] - 109s 3s/step - loss: 0.3568 - accuracy: 0.8396 - val_loss: 0.3858 - val_accuracy: 0.8272\n"
     ]
    }
   ],
   "source": [
    "history = model.fit(train_iterator, epochs=30, validation_data=val_iterator)"
   ]
  },
  {
   "cell_type": "markdown",
   "id": "3d53a378",
   "metadata": {},
   "source": [
    "RESULT VISUALISATION"
   ]
  },
  {
   "cell_type": "code",
   "execution_count": 140,
   "id": "2422d72b",
   "metadata": {},
   "outputs": [
    {
     "data": {
      "image/png": "[encoded data removed]",
      "text/plain": [
       "<Figure size 640x480 with 1 Axes>"
      ]
     },
     "metadata": {},
     "output_type": "display_data"
    },
    {
     "data": {
      "image/png": "[encoded data removed]",
      "text/plain": [
       "<Figure size 640x480 with 1 Axes>"
      ]
     },
     "metadata": {},
     "output_type": "display_data"
    }
   ],
   "source": [
    "acc = history.history['accuracy']\n",
    "val_acc = history.history['val_accuracy']\n",
    "epochs = range(len(acc))\n",
    "\n",
    "plt.plot(epochs, acc, 'b', label='Training Accuracy')\n",
    "plt.plot(epochs, val_acc, 'r', label='Validation Accuracy')\n",
    "plt.title('Accuracy Graph')\n",
    "plt.legend()\n",
    "plt.figure()\n",
    "\n",
    "loss = history.history['loss']\n",
    "val_loss = history.history['val_loss']\n",
    "plt.plot(epochs, loss, 'b', label='Training Loss')\n",
    "plt.plot(epochs, val_loss, 'r', label='Validation Loss')\n",
    "plt.title('Loss Graph')\n",
    "plt.legend()\n",
    "plt.show()"
   ]
  },
  {
   "cell_type": "code",
   "execution_count": null,
   "id": "494702f7",
   "metadata": {},
   "outputs": [],
   "source": []
  }
 ],
 "metadata": {
  "kernelspec": {
   "display_name": "Python 3 (ipykernel)",
   "language": "python",
   "name": "python3"
  },
  "language_info": {
   "codemirror_mode": {
    "name": "ipython",
    "version": 3
   },
   "file_extension": ".py",
   "mimetype": "text/x-python",
   "name": "python",
   "nbconvert_exporter": "python",
   "pygments_lexer": "ipython3",
   "version": "3.11.4"
  }
 },
 "nbformat": 4,
 "nbformat_minor": 5
}
